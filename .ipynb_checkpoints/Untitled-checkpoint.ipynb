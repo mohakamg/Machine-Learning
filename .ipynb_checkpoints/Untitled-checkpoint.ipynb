{
 "cells": [
  {
   "cell_type": "code",
   "execution_count": 1,
   "metadata": {},
   "outputs": [],
   "source": [
    "from NNDeep import DeepNN\n",
    "import matplotlib.pyplot as plt\n",
    "import sklearn\n",
    "import numpy as np"
   ]
  },
  {
   "cell_type": "code",
   "execution_count": 2,
   "metadata": {},
   "outputs": [],
   "source": [
    "import scipy.io as spio\n",
    "mat = spio.loadmat('ex3data1.mat', squeeze_me=True)"
   ]
  },
  {
   "cell_type": "code",
   "execution_count": 3,
   "metadata": {},
   "outputs": [],
   "source": [
    "X_train = mat['X']\n",
    "y_train = mat['y'].reshape(len(X_train),1)\n",
    "y_train_bin = np.zeros([len(y_train),10])\n",
    "for i in range(len(y_train)):\n",
    "    if(y_train[i] == 10):\n",
    "        y_train_bin[i][0] = 1\n",
    "\n",
    "    elif(y_train[i] == 1):\n",
    "        y_train_bin[i][1] = 1\n",
    "\n",
    "    elif(y_train[i] == 2):\n",
    "        y_train_bin[i][2] = 1\n",
    "\n",
    "    elif(y_train[i] == 3):\n",
    "        y_train_bin[i][3] = 1\n",
    "\n",
    "    elif(y_train[i] == 4):\n",
    "        y_train_bin[i][4] = 1\n",
    "\n",
    "    elif(y_train[i] == 5):\n",
    "        y_train_bin[i][5] = 1\n",
    "\n",
    "    elif(y_train[i] == 6):\n",
    "        y_train_bin[i][6] = 1\n",
    "\n",
    "    elif(y_train[i] == 7):\n",
    "        y_train_bin[i][7] = 1\n",
    "\n",
    "    elif(y_train[i] == 8):\n",
    "        y_train_bin[i][8] = 1\n",
    "\n",
    "    elif(y_train[i] == 9):\n",
    "        y_train_bin[i][9] = 1\n",
    "        \n",
    "y_train = y_train_bin"
   ]
  },
  {
   "cell_type": "code",
   "execution_count": 75,
   "metadata": {},
   "outputs": [
    {
     "name": "stdout",
     "output_type": "stream",
     "text": [
      "/------------ ######### Learning ######### ------------/\n",
      "Effective epoch:  1.0\n",
      "Accuracy:  83.206 %\n",
      "Cost:  0.4813723311910056 \n",
      "\n",
      "/------------ ######### Learning ######### ------------/\n",
      "Effective epoch:  2.0\n",
      "Accuracy:  81.038 %\n",
      "Cost:  0.521764603328057 \n",
      "\n",
      "/------------ ######### Learning ######### ------------/\n",
      "Effective epoch:  3.0\n",
      "Accuracy:  81.342 %\n",
      "Cost:  0.5772602780021092 \n",
      "\n",
      "/------------ ######### Learning ######### ------------/\n",
      "Effective epoch:  4.0\n",
      "Accuracy:  81.52199999999999 %\n",
      "Cost:  0.6169664110328658 \n",
      "\n",
      "/------------ ######### Learning ######### ------------/\n",
      "Effective epoch:  5.0\n",
      "Accuracy:  81.596 %\n",
      "Cost:  0.6450247525246368 \n",
      "\n",
      "Time Taken:  1.2632529735565186  seconds\n"
     ]
    }
   ],
   "source": [
    "NN = DeepNN([400,25,10])\n",
    "w = NN.learn(5000, 0.0001, X_train, y_train, ['sigmoid','sigmoid'], 'log_loss', 1000, 'sgd', 10)"
   ]
  },
  {
   "cell_type": "code",
   "execution_count": 79,
   "metadata": {},
   "outputs": [
    {
     "data": {
      "image/png": "[encoded data removed]",
      "text/plain": [
       "<matplotlib.figure.Figure at 0x110334240>"
      ]
     },
     "metadata": {},
     "output_type": "display_data"
    }
   ],
   "source": [
    "for i in range(1,10):\n",
    "    plt.subplot(330+i)\n",
    "    plt.imshow(NN.weights[0][np.random.randint(25)][1:].reshape(8,8),cmap='gray')"
   ]
  },
  {
   "cell_type": "code",
   "execution_count": null,
   "metadata": {},
   "outputs": [],
   "source": []
  }
 ],
 "metadata": {
  "kernelspec": {
   "display_name": "Python 3",
   "language": "python",
   "name": "python3"
  },
  "language_info": {
   "codemirror_mode": {
    "name": "ipython",
    "version": 3
   },
   "file_extension": ".py",
   "mimetype": "text/x-python",
   "name": "python",
   "nbconvert_exporter": "python",
   "pygments_lexer": "ipython3",
   "version": "3.6.4"
  }
 },
 "nbformat": 4,
 "nbformat_minor": 2
}
