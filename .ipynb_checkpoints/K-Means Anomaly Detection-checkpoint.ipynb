{
 "cells": [
  {
   "cell_type": "markdown",
   "metadata": {},
   "source": [
    "<h1> DDOS - Anomaly Detection, Checking Packets/sec vs Size </h1>"
   ]
  },
  {
   "cell_type": "code",
   "execution_count": 2,
   "metadata": {},
   "outputs": [],
   "source": [
    "# Import Libraries\n",
    "import numpy as np # Matrix\n",
    "import pandas as pd # Dataframes\n",
    "import matplotlib.pyplot as plt # Graphing\n",
    "import matplotlib.animation as animation # Graphing Animation"
   ]
  },
  {
   "cell_type": "code",
   "execution_count": 27,
   "metadata": {},
   "outputs": [],
   "source": [
    "def loadDataset(filename):\n",
    "    return np.array(pd.read_csv(filename, sep=\"\\t\", header=None))"
   ]
  },
  {
   "cell_type": "code",
   "execution_count": 28,
   "metadata": {},
   "outputs": [
    {
     "data": {
      "text/plain": [
       "<matplotlib.collections.PathCollection at 0x1130fc9b0>"
      ]
     },
     "execution_count": 28,
     "metadata": {},
     "output_type": "execute_result"
    },
    {
     "data": {
      "image/png": "[encoded data removed]",
      "text/plain": [
       "<matplotlib.figure.Figure at 0x11347df98>"
      ]
     },
     "metadata": {},
     "output_type": "display_data"
    }
   ],
   "source": [
    "dataset = loadDataset('durudataset.txt')\n",
    "plt.scatter(dataset[:,0],dataset[:,1])"
   ]
  },
  {
   "cell_type": "code",
   "execution_count": 78,
   "metadata": {},
   "outputs": [],
   "source": [
    "# Eucledian or Frobenius Norm for between two points\n",
    "def dist(a, b):\n",
    "    return np.linalg.norm(a-b)"
   ]
  },
  {
   "cell_type": "code",
   "execution_count": 146,
   "metadata": {},
   "outputs": [],
   "source": [
    "def k_means(filename, k, epsilon = 0, distance = 'eucledian', dataset = 0):\n",
    "    if len(filename > 0): \n",
    "        dataset = loadDataset(filename)\n",
    "    num_of_datapoints, num_of_features = dataset.shape\n",
    "    centeroids = dataset[np.random.randint(0,num_of_datapoints,k)]\n",
    "    hist_centeroids = []\n",
    "    \n",
    "    point_belongs_to_cluster = np.zeros((num_of_datapoints,1))\n",
    "    prev_centeroids = np.zeros(centeroids.shape)\n",
    "    \n",
    "    stop_cond = dist(centeroids, prev_centeroids)\n",
    "#     print(stop_cond)\n",
    "    # Plot intitial Cluster\n",
    "#     plt.scatter(dataset[:,0],dataset[:,1])\n",
    "#     plt.scatter(centeroids[:,0],centeroids[:,1])\n",
    "#     plt.show()\n",
    "    hist_centeroids.append(centeroids)\n",
    "    \n",
    "    while stop_cond > epsilon:\n",
    "        \n",
    "        prev_centeroids = centeroids\n",
    "        \n",
    "        for ind_data, datapt in enumerate(dataset):\n",
    "            dist_cent_point = np.zeros((k,1))\n",
    "            for ind_cent, cent in enumerate(centeroids):\n",
    "#                 print(ind_cent, ': ', dist(cent, datapt))\n",
    "                dist_cent_point[ind_cent] = dist(cent, datapt)\n",
    "            \n",
    "            point_belongs_to_cluster[ind_data] = np.argmin(dist_cent_point)\n",
    "            \n",
    "        new_cent = np.zeros((k,num_of_features))\n",
    "        \n",
    "        for cluster_num in range(k):\n",
    "            cluster_of_pts = [i for i in range(num_of_datapoints) if point_belongs_to_cluster[i] == cluster_num ]\n",
    "            new_centeroid = np.mean(dataset[cluster_of_pts], axis=0)\n",
    "            new_cent[cluster_num,:] = new_centeroid\n",
    "        \n",
    "        centeroids = new_cent\n",
    "        \n",
    "        hist_centeroids.append(centeroids)\n",
    "        \n",
    "        stop_cond = dist(centeroids, prev_centeroids)\n",
    "    \n",
    "        \n",
    "    return centeroids, hist_centeroids, point_belongs_to_cluster\n",
    "    "
   ]
  },
  {
   "cell_type": "code",
   "execution_count": 137,
   "metadata": {},
   "outputs": [],
   "source": [
    "#lets define a plotting algorithm for our dataset and our centroids\n",
    "def plot(dataset, history_centroids, belongs_to):\n",
    "    #we'll have 2 colors for each centroid cluster\n",
    "    colors = ['r', 'g']\n",
    "\n",
    "    #split our graph by its axis and actual plot\n",
    "    fig, ax = plt.subplots()\n",
    "\n",
    "    #for each point in our dataset\n",
    "    for index in range(dataset.shape[0]):\n",
    "        #get all the points assigned to a cluster\n",
    "        instances_close = [i for i in range(len(belongs_to)) if belongs_to[i] == index]\n",
    "        #assign each datapoint in that cluster a color and plot it\n",
    "        for instance_index in instances_close:\n",
    "            ax.plot(dataset[instance_index][0], dataset[instance_index][1], (colors[index] + 'o'))\n",
    "\n",
    "    #lets also log the history of centroids calculated via training\n",
    "    history_points = []\n",
    "    #for each centroid ever calculated\n",
    "    for index, centroids in enumerate(history_centroids):\n",
    "        #print them all out\n",
    "        for inner, item in enumerate(centroids):\n",
    "            if index == 0:\n",
    "                history_points.append(ax.plot(item[0], item[1], 'bo')[0])\n",
    "            else:\n",
    "                history_points[inner].set_data(item[0], item[1])\n",
    "                print(\"centroids {} {}\".format(index, item))\n",
    "\n",
    "                plt.show()"
   ]
  },
  {
   "cell_type": "code",
   "execution_count": 139,
   "metadata": {},
   "outputs": [],
   "source": [
    "%matplotlib notebook\n",
    "def plot_step_by_step(dataset, history_centroids, belongs_to):\n",
    "    colors = ['r', 'g']\n",
    "\n",
    "    fig, ax = plt.subplots()\n",
    "\n",
    "    for index in range(dataset.shape[0]):\n",
    "        instances_close = [i for i in range(len(belongs_to)) if belongs_to[i] == index]\n",
    "        for instance_index in instances_close:\n",
    "            ax.plot(dataset[instance_index][0], dataset[instance_index][1], (colors[index] + 'o'))\n",
    "\n",
    "    history_points = []\n",
    "    for index, centroids in enumerate(history_centroids):\n",
    "        for inner, item in enumerate(centroids):\n",
    "            if index == 0:\n",
    "                history_points.append(ax.plot(item[0], item[1], 'bo')[0])\n",
    "            else:\n",
    "                history_points[inner].set_data(item[0], item[1])\n",
    "                print(\"centroids {} {}\".format(index, item))\n",
    "                \n",
    "                plt.pause(0.8)"
   ]
  },
  {
   "cell_type": "code",
   "execution_count": 152,
   "metadata": {},
   "outputs": [],
   "source": [
    "centeroids, hist_centeroids, point_belongs_to_cluster = k_means('durudataset.txt', k=2, epsilon = 0, distance = 'eucledian')"
   ]
  },
  {
   "cell_type": "code",
   "execution_count": null,
   "metadata": {},
   "outputs": [],
   "source": []
  }
 ],
 "metadata": {
  "kernelspec": {
   "display_name": "Python 3",
   "language": "python",
   "name": "python3"
  },
  "language_info": {
   "codemirror_mode": {
    "name": "ipython",
    "version": 3
   },
   "file_extension": ".py",
   "mimetype": "text/x-python",
   "name": "python",
   "nbconvert_exporter": "python",
   "pygments_lexer": "ipython3",
   "version": "3.6.4"
  }
 },
 "nbformat": 4,
 "nbformat_minor": 2
}
