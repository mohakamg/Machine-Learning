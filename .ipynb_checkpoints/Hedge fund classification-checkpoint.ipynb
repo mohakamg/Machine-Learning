{
 "cells": [
  {
   "cell_type": "code",
   "execution_count": 22,
   "metadata": {},
   "outputs": [],
   "source": [
    "# import libraries\n",
    "import numpy as np\n",
    "import pandas as pd\n",
    "from NNDeep import DeepNN\n",
    "import time"
   ]
  },
  {
   "cell_type": "code",
   "execution_count": 23,
   "metadata": {},
   "outputs": [
    {
     "data": {
      "text/html": [
       "<div>\n",
       "<style scoped>\n",
       "    .dataframe tbody tr th:only-of-type {\n",
       "        vertical-align: middle;\n",
       "    }\n",
       "\n",
       "    .dataframe tbody tr th {\n",
       "        vertical-align: top;\n",
       "    }\n",
       "\n",
       "    .dataframe thead th {\n",
       "        text-align: right;\n",
       "    }\n",
       "</style>\n",
       "<table border=\"1\" class=\"dataframe\">\n",
       "  <thead>\n",
       "    <tr style=\"text-align: right;\">\n",
       "      <th></th>\n",
       "      <th>data_id</th>\n",
       "      <th>period</th>\n",
       "      <th>c1</th>\n",
       "      <th>c2</th>\n",
       "      <th>c3</th>\n",
       "      <th>c4</th>\n",
       "      <th>c5</th>\n",
       "      <th>c6</th>\n",
       "      <th>c7</th>\n",
       "      <th>c8</th>\n",
       "      <th>...</th>\n",
       "      <th>c80</th>\n",
       "      <th>c81</th>\n",
       "      <th>c82</th>\n",
       "      <th>c83</th>\n",
       "      <th>c84</th>\n",
       "      <th>c85</th>\n",
       "      <th>c86</th>\n",
       "      <th>c87</th>\n",
       "      <th>c88</th>\n",
       "      <th>target</th>\n",
       "    </tr>\n",
       "  </thead>\n",
       "  <tbody>\n",
       "    <tr>\n",
       "      <th>0</th>\n",
       "      <td>837771</td>\n",
       "      <td>train9</td>\n",
       "      <td>-2.535552</td>\n",
       "      <td>0.000660</td>\n",
       "      <td>-0.000479</td>\n",
       "      <td>0.008932</td>\n",
       "      <td>-0.0</td>\n",
       "      <td>0.0</td>\n",
       "      <td>0.0</td>\n",
       "      <td>0.0</td>\n",
       "      <td>...</td>\n",
       "      <td>0.016361</td>\n",
       "      <td>0.023122</td>\n",
       "      <td>0.0</td>\n",
       "      <td>0.073914</td>\n",
       "      <td>0.00000</td>\n",
       "      <td>0.0</td>\n",
       "      <td>0.0</td>\n",
       "      <td>-0.011314</td>\n",
       "      <td>1.055360</td>\n",
       "      <td>0</td>\n",
       "    </tr>\n",
       "    <tr>\n",
       "      <th>1</th>\n",
       "      <td>837789</td>\n",
       "      <td>train9</td>\n",
       "      <td>0.611008</td>\n",
       "      <td>0.016856</td>\n",
       "      <td>-0.015117</td>\n",
       "      <td>-0.026797</td>\n",
       "      <td>-0.0</td>\n",
       "      <td>0.0</td>\n",
       "      <td>0.0</td>\n",
       "      <td>0.0</td>\n",
       "      <td>...</td>\n",
       "      <td>0.057885</td>\n",
       "      <td>0.198569</td>\n",
       "      <td>0.0</td>\n",
       "      <td>-0.084890</td>\n",
       "      <td>0.00000</td>\n",
       "      <td>0.0</td>\n",
       "      <td>0.0</td>\n",
       "      <td>-0.021597</td>\n",
       "      <td>-1.882289</td>\n",
       "      <td>0</td>\n",
       "    </tr>\n",
       "    <tr>\n",
       "      <th>2</th>\n",
       "      <td>837821</td>\n",
       "      <td>train9</td>\n",
       "      <td>-0.084158</td>\n",
       "      <td>0.013008</td>\n",
       "      <td>-0.017080</td>\n",
       "      <td>-0.028906</td>\n",
       "      <td>-0.0</td>\n",
       "      <td>0.0</td>\n",
       "      <td>0.0</td>\n",
       "      <td>0.0</td>\n",
       "      <td>...</td>\n",
       "      <td>-0.025388</td>\n",
       "      <td>0.092343</td>\n",
       "      <td>0.0</td>\n",
       "      <td>0.122077</td>\n",
       "      <td>0.09243</td>\n",
       "      <td>0.0</td>\n",
       "      <td>0.0</td>\n",
       "      <td>-0.009972</td>\n",
       "      <td>-0.417288</td>\n",
       "      <td>1</td>\n",
       "    </tr>\n",
       "    <tr>\n",
       "      <th>3</th>\n",
       "      <td>837849</td>\n",
       "      <td>train9</td>\n",
       "      <td>-1.185109</td>\n",
       "      <td>-0.011085</td>\n",
       "      <td>-0.023120</td>\n",
       "      <td>-0.000092</td>\n",
       "      <td>-0.0</td>\n",
       "      <td>0.0</td>\n",
       "      <td>0.0</td>\n",
       "      <td>0.0</td>\n",
       "      <td>...</td>\n",
       "      <td>-0.055605</td>\n",
       "      <td>0.003650</td>\n",
       "      <td>0.0</td>\n",
       "      <td>-0.030415</td>\n",
       "      <td>0.00000</td>\n",
       "      <td>0.0</td>\n",
       "      <td>0.0</td>\n",
       "      <td>-0.000050</td>\n",
       "      <td>-0.060834</td>\n",
       "      <td>0</td>\n",
       "    </tr>\n",
       "    <tr>\n",
       "      <th>4</th>\n",
       "      <td>837850</td>\n",
       "      <td>train9</td>\n",
       "      <td>0.342375</td>\n",
       "      <td>0.006518</td>\n",
       "      <td>0.003716</td>\n",
       "      <td>-0.010284</td>\n",
       "      <td>-0.0</td>\n",
       "      <td>0.0</td>\n",
       "      <td>0.0</td>\n",
       "      <td>0.0</td>\n",
       "      <td>...</td>\n",
       "      <td>0.042416</td>\n",
       "      <td>-0.063021</td>\n",
       "      <td>0.0</td>\n",
       "      <td>0.136356</td>\n",
       "      <td>0.00000</td>\n",
       "      <td>0.0</td>\n",
       "      <td>0.0</td>\n",
       "      <td>0.032605</td>\n",
       "      <td>-0.822442</td>\n",
       "      <td>0</td>\n",
       "    </tr>\n",
       "  </tbody>\n",
       "</table>\n",
       "<p>5 rows × 91 columns</p>\n",
       "</div>"
      ],
      "text/plain": [
       "   data_id  period        c1        c2        c3        c4   c5   c6   c7  \\\n",
       "0   837771  train9 -2.535552  0.000660 -0.000479  0.008932 -0.0  0.0  0.0   \n",
       "1   837789  train9  0.611008  0.016856 -0.015117 -0.026797 -0.0  0.0  0.0   \n",
       "2   837821  train9 -0.084158  0.013008 -0.017080 -0.028906 -0.0  0.0  0.0   \n",
       "3   837849  train9 -1.185109 -0.011085 -0.023120 -0.000092 -0.0  0.0  0.0   \n",
       "4   837850  train9  0.342375  0.006518  0.003716 -0.010284 -0.0  0.0  0.0   \n",
       "\n",
       "    c8   ...         c80       c81  c82       c83      c84  c85  c86  \\\n",
       "0  0.0   ...    0.016361  0.023122  0.0  0.073914  0.00000  0.0  0.0   \n",
       "1  0.0   ...    0.057885  0.198569  0.0 -0.084890  0.00000  0.0  0.0   \n",
       "2  0.0   ...   -0.025388  0.092343  0.0  0.122077  0.09243  0.0  0.0   \n",
       "3  0.0   ...   -0.055605  0.003650  0.0 -0.030415  0.00000  0.0  0.0   \n",
       "4  0.0   ...    0.042416 -0.063021  0.0  0.136356  0.00000  0.0  0.0   \n",
       "\n",
       "        c87       c88  target  \n",
       "0 -0.011314  1.055360       0  \n",
       "1 -0.021597 -1.882289       0  \n",
       "2 -0.009972 -0.417288       1  \n",
       "3 -0.000050 -0.060834       0  \n",
       "4  0.032605 -0.822442       0  \n",
       "\n",
       "[5 rows x 91 columns]"
      ]
     },
     "execution_count": 23,
     "metadata": {},
     "output_type": "execute_result"
    }
   ],
   "source": [
    "df = pd.read_csv('deepanalytics_dataset.csv')\n",
    "df.head()"
   ]
  },
  {
   "cell_type": "code",
   "execution_count": 24,
   "metadata": {},
   "outputs": [
    {
     "name": "stdout",
     "output_type": "stream",
     "text": [
      "X          c1        c2        c3        c4   c5   c6   c7   c8        c9  c10  \\\n",
      "0 -2.535552  0.000660 -0.000479  0.008932 -0.0  0.0  0.0  0.0 -0.005144 -0.0   \n",
      "1  0.611008  0.016856 -0.015117 -0.026797 -0.0  0.0  0.0  0.0 -0.065916 -0.0   \n",
      "2 -0.084158  0.013008 -0.017080 -0.028906 -0.0  0.0  0.0  0.0 -0.035424 -0.0   \n",
      "3 -1.185109 -0.011085 -0.023120 -0.000092 -0.0  0.0  0.0  0.0 -0.003681 -0.0   \n",
      "4  0.342375  0.006518  0.003716 -0.010284 -0.0  0.0  0.0  0.0 -0.007461 -0.0   \n",
      "\n",
      "     ...          c79       c80       c81  c82       c83      c84  c85  c86  \\\n",
      "0    ...    -0.121688  0.016361  0.023122  0.0  0.073914  0.00000  0.0  0.0   \n",
      "1    ...    -0.120094  0.057885  0.198569  0.0 -0.084890  0.00000  0.0  0.0   \n",
      "2    ...    -0.009884 -0.025388  0.092343  0.0  0.122077  0.09243  0.0  0.0   \n",
      "3    ...    -0.062372 -0.055605  0.003650  0.0 -0.030415  0.00000  0.0  0.0   \n",
      "4    ...     0.172567  0.042416 -0.063021  0.0  0.136356  0.00000  0.0  0.0   \n",
      "\n",
      "        c87       c88  \n",
      "0 -0.011314  1.055360  \n",
      "1 -0.021597 -1.882289  \n",
      "2 -0.009972 -0.417288  \n",
      "3 -0.000050 -0.060834  \n",
      "4  0.032605 -0.822442  \n",
      "\n",
      "[5 rows x 88 columns]\n",
      "y 0    0\n",
      "1    0\n",
      "2    1\n",
      "3    0\n",
      "4    0\n",
      "Name: target, dtype: int64\n"
     ]
    }
   ],
   "source": [
    "y = df['target']\n",
    "X = df.drop(['data_id','period','target'],axis=1)\n",
    "print('X', X.head())\n",
    "print('y', y.head())"
   ]
  },
  {
   "cell_type": "code",
   "execution_count": 25,
   "metadata": {},
   "outputs": [],
   "source": [
    "X = np.array(X)\n",
    "y = np.array(y).reshape(len(X),1)"
   ]
  },
  {
   "cell_type": "code",
   "execution_count": 40,
   "metadata": {},
   "outputs": [],
   "source": [
    "NN = DeepNN([88,200,100,100,200,1])"
   ]
  },
  {
   "cell_type": "code",
   "execution_count": null,
   "metadata": {},
   "outputs": [
    {
     "name": "stdout",
     "output_type": "stream",
     "text": [
      "/------------ ######### Learning ######### ------------/\n",
      "Effective epoch:  1.0\n",
      "Accuracy:  50.06 %\n",
      "Cost:  4.705320554114479 \n",
      "\n",
      "/------------ ######### Learning ######### ------------/\n",
      "Effective epoch:  2.0\n",
      "Accuracy:  52.129999999999995 %\n",
      "Cost:  0.8708218629440233 \n",
      "\n",
      "/------------ ######### Learning ######### ------------/\n",
      "Effective epoch:  3.0\n",
      "Accuracy:  53.26 %\n",
      "Cost:  1.1601214541854021 \n",
      "\n"
     ]
    }
   ],
   "source": [
    "w = NN.learn(200000, 0.001, X, y, ['reLU','sigmoid','sigmoid','sigmoid','sigmoid'], 'log_loss', 10000, 'sgd', 10)"
   ]
  },
  {
   "cell_type": "code",
   "execution_count": 13,
   "metadata": {},
   "outputs": [
    {
     "name": "stdout",
     "output_type": "stream",
     "text": [
      "Accuracy:  50.160000000000004 %\n"
     ]
    }
   ],
   "source": [
    "print('Accuracy: ',np.mean(np.round(NN.think(X))==y) * 100, '%')"
   ]
  },
  {
   "cell_type": "markdown",
   "metadata": {
    "collapsed": true
   },
   "source": [
    "<h1> Keras </h1>"
   ]
  },
  {
   "cell_type": "code",
   "execution_count": null,
   "metadata": {},
   "outputs": [],
   "source": [
    "import keras\n",
    "from keras.models import Sequential\n",
    "from keras.layers import Dense"
   ]
  },
  {
   "cell_type": "code",
   "execution_count": null,
   "metadata": {},
   "outputs": [],
   "source": [
    "ANN = Sequential()"
   ]
  },
  {
   "cell_type": "code",
   "execution_count": null,
   "metadata": {},
   "outputs": [],
   "source": [
    "ANN.add(Dense(units=200, activation='relu',input_dim = 88, kernel_initializer = 'uniform'))"
   ]
  },
  {
   "cell_type": "code",
   "execution_count": null,
   "metadata": {},
   "outputs": [],
   "source": [
    "ANN.add(Dense(units=100, activation='sigmoid', kernel_initializer = 'uniform'))\n",
    "ANN.add(Dense(units=200, activation='sigmoid', kernel_initializer = 'uniform'))\n",
    "ANN.add(Dense(units=1, activation='sigmoid', kernel_initializer = 'uniform'))"
   ]
  },
  {
   "cell_type": "code",
   "execution_count": null,
   "metadata": {},
   "outputs": [],
   "source": [
    "ANN.compile(optimizer = 'adam', loss = 'binary_crossentropy', metrics = ['accuracy'])"
   ]
  },
  {
   "cell_type": "code",
   "execution_count": null,
   "metadata": {},
   "outputs": [],
   "source": [
    "start = time.time()\n",
    "ANN.fit(X,y,batch_size=10,epochs=50)\n",
    "end = time.time()\n",
    "print('Time Taken for Keras: ', end-start, ' seconds')"
   ]
  }
 ],
 "metadata": {
  "kernelspec": {
   "display_name": "Python 3",
   "language": "python",
   "name": "python3"
  },
  "language_info": {
   "codemirror_mode": {
    "name": "ipython",
    "version": 3
   },
   "file_extension": ".py",
   "mimetype": "text/x-python",
   "name": "python",
   "nbconvert_exporter": "python",
   "pygments_lexer": "ipython3",
   "version": "3.6.4"
  }
 },
 "nbformat": 4,
 "nbformat_minor": 2
}
